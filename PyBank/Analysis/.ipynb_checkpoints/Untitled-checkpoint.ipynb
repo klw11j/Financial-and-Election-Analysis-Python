{
 "cells": [
  {
   "cell_type": "code",
   "execution_count": 2,
   "metadata": {},
   "outputs": [
    {
     "name": "stdout",
     "output_type": "stream",
     "text": [
      "Financial Analysis\n",
      "-----------------------------------\n",
      "Total Months: 86\n",
      "Total: $38382578\n",
      "Average Change: -2315.12\n",
      "Greatest Increase in Profits:Feb-2012 ($1926159)\n",
      "Greatest Decrease in Profits:Sep-2013 ($-2196167)\n"
     ]
    }
   ],
   "source": [
    "import os\n",
    "\n",
    "import csv\n",
    "\n",
    "csvpath = os.path.join('..', 'Resources', 'budget_data.csv')\n",
    "\n",
    "total_months = []\n",
    "total_profit = []\n",
    "profit_change = []\n",
    "\n",
    "with open(csvpath) as csvfile:\n",
    "\n",
    "    csvreader = csv.reader(csvfile, delimiter=',')\n",
    "\n",
    "    csv_header = next(csvreader)\n",
    "\n",
    "    for row in csvreader:\n",
    "        total_months.append(row[0])\n",
    "        total_profit.append(int(row[1]))\n",
    "\n",
    "    #find monthly change in profit by iterating through the profits\n",
    "    for i in range(len(total_profit)-1):\n",
    "        profit_change.append(total_profit[i+1]-(total_profit[i]))\n",
    "\n",
    "    #find greatest increase and decrease in profits\n",
    "    greatest_increase_profits = max(profit_change)\n",
    "    greatest_decrease_profits = min(profit_change)\n",
    "    \n",
    "    #greatest increase month\n",
    "    k = profit_change.index(greatest_increase_profits)\n",
    "    greatest_increase_month = total_months[k+1]\n",
    "\n",
    "    #greatest decrease month\n",
    "    j = profit_change.index(greatest_decrease_profits)\n",
    "    greatest_decrease_month = total_months[j+1]\n",
    "\n",
    "#print statements\n",
    "print(\"Financial Analysis\")\n",
    "print(\"-----------------------------------\")\n",
    "print(f\"Total Months: {len(total_months)}\")\n",
    "print(f\"Total: ${sum(total_profit)}\")\n",
    "print(f\"Average Change: {round(sum(profit_change)/len(profit_change),2)}\")\n",
    "print(f\"Greatest Increase in Profits:{greatest_increase_month} (${greatest_increase_profits})\")\n",
    "print(f\"Greatest Decrease in Profits:{greatest_decrease_month} (${greatest_decrease_profits})\") \n"
   ]
  },
  {
   "cell_type": "code",
   "execution_count": null,
   "metadata": {},
   "outputs": [],
   "source": []
  },
  {
   "cell_type": "code",
   "execution_count": null,
   "metadata": {},
   "outputs": [],
   "source": []
  },
  {
   "cell_type": "code",
   "execution_count": null,
   "metadata": {},
   "outputs": [],
   "source": []
  }
 ],
 "metadata": {
  "kernelspec": {
   "display_name": "Python 3",
   "language": "python",
   "name": "python3"
  },
  "language_info": {
   "codemirror_mode": {
    "name": "ipython",
    "version": 3
   },
   "file_extension": ".py",
   "mimetype": "text/x-python",
   "name": "python",
   "nbconvert_exporter": "python",
   "pygments_lexer": "ipython3",
   "version": "3.7.6"
  }
 },
 "nbformat": 4,
 "nbformat_minor": 4
}
